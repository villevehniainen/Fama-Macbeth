{
 "cells": [
  {
   "cell_type": "markdown",
   "metadata": {},
   "source": [
    "This Jupyter notebook shows how to assign stocks into different size portfolios and do CAPM regressions for those 20\n",
    "value-weighted size portfolios. After that I will do Fama-Macbeth cross sectional regressions where I regress excess returns\n",
    "on portfolio betas and lagged natural logarithm of the average portfolio market caps."
   ]
  },
  {
   "cell_type": "code",
   "execution_count": 2,
   "metadata": {},
   "outputs": [
    {
     "name": "stderr",
     "output_type": "stream",
     "text": [
      "C:\\Users\\Ville\\anaconda3\\lib\\site-packages\\ipykernel_launcher.py:9: ParserWarning: Falling back to the 'python' engine because the 'c' engine does not support skipfooter; you can avoid this warning by specifying engine='python'.\n",
      "  if __name__ == '__main__':\n"
     ]
    }
   ],
   "source": [
    "import pandas as pd\n",
    "import numpy as np\n",
    "import statsmodels.api as sm\n",
    "\n",
    "# Read the files\n",
    "# market_return file includes monthly market returns since the beginning of 2018\n",
    "# ff3 file includes Fama French 3 factor model coefficients which can be downloaded from Kenneth French's webstie\n",
    "market_return = pd.read_csv('market_return.csv') # This \n",
    "ff3 = pd.read_csv(\"F-F_Research_Data_Factors.CSV\", skiprows=2, skipfooter=99)\n",
    "ff3 = ff3.rename(columns={ ff3.columns[0]: \"date\"})\n"
   ]
  },
  {
   "cell_type": "code",
   "execution_count": 3,
   "metadata": {},
   "outputs": [],
   "source": [
    "# create risk-free return index to market data and an excess market return column\n",
    "months = len(market_return.index) + 2\n",
    "rf = ff3['RF'][-months:-3]\n",
    "market_return = market_return[1:]\n",
    "market_return['risk_free'] = list(rf)\n",
    "market_return['risk_free'] = market_return['risk_free'] / 100\n",
    "market_return['vwretd'] = market_return['vwretd']\n",
    "market_return['excess'] = market_return['vwretd'] - market_return['risk_free']\n"
   ]
  },
  {
   "cell_type": "code",
   "execution_count": 4,
   "metadata": {},
   "outputs": [],
   "source": [
    "# Read stock data and create a market cap column\n",
    "# I used stock data from CRSP\n",
    "stocks_data = pd.read_csv('stock_data.csv')\n",
    "stocks_data['cap'] = stocks_data['PRC'] * stocks_data['SHROUT'] / 1000\n",
    "stocks_data['date'] = pd.to_datetime(stocks_data['date'], format='%d%b%Y')\n",
    "stocks_data['quantile'] = np.nan\n"
   ]
  },
  {
   "cell_type": "code",
   "execution_count": 5,
   "metadata": {},
   "outputs": [],
   "source": [
    "# drop rows with return code C and unnecessary columns such as FACPR and FACSHR. Also, turn return column numbers into float\n",
    "stocks_data = stocks_data.drop(stocks_data[stocks_data.RET == 'C'].index)\n",
    "stocks_data = stocks_data.drop(columns=['FACPR', 'FACSHR'])\n",
    "stocks_data.RET = stocks_data.RET.astype(float)\n",
    "\n",
    "# Create date difference column\n",
    "stocks_data['datediff'] = stocks_data['date'].diff()\n",
    "stocks_data['datediff'] = stocks_data['datediff'].dt.days\n",
    "\n",
    "# Create lagged market cap and permno column\n",
    "stocks_data['lagcap'] = stocks_data['cap'].shift(periods=1)\n",
    "stocks_data['lagpermno'] = stocks_data['PERMNO'].shift(periods=1)\n",
    "\n",
    "# Drop all rows that don't have a lagged PERMNO equal to the PERMNO \n",
    "# Also drop all rows with date difference out of range 28-33 and for date 2018-01-31 (so I don't get any weird lagged market caps)\n",
    "stocks_data = stocks_data.drop(stocks_data[stocks_data['lagpermno'] != stocks_data['PERMNO']].index)\n",
    "stocks_data = stocks_data.drop(stocks_data[stocks_data.datediff < 28.0].index)\n",
    "stocks_data = stocks_data.drop(stocks_data[stocks_data.datediff > 33.0].index)\n",
    "stocks_data = stocks_data.drop(stocks_data[stocks_data.date == '2018-01-31'].index)\n",
    "dates = stocks_data.date.unique()"
   ]
  },
  {
   "cell_type": "code",
   "execution_count": 6,
   "metadata": {},
   "outputs": [
    {
     "name": "stderr",
     "output_type": "stream",
     "text": [
      "C:\\Users\\Ville\\anaconda3\\lib\\site-packages\\ipykernel_launcher.py:2: ParserWarning: Falling back to the 'python' engine because the 'c' engine does not support skipfooter; you can avoid this warning by specifying engine='python'.\n",
      "  \n"
     ]
    }
   ],
   "source": [
    "# Read the breakpoints which can be also downloaded from Kenneth French's website\n",
    "breakpoints = pd.read_csv('ME_Breakpoints.CSV', header=None, skiprows=1, skipfooter=1)\n",
    "\n",
    "# Filter only the needed months, create string numbers to column names, drop unnecessary columns and again to the column\n",
    "# renaming in order to match column names with the \n",
    "breakpoints = breakpoints[-months:-3]\n",
    "quantiles = list(range(22))\n",
    "string_quantiles = [str(int) for int in quantiles]\n",
    "breakpoints.columns = string_quantiles\n",
    "true_breakpoints = breakpoints.drop(columns = ['1'])\n",
    "true_breakpoints['0'] = dates\n",
    "true_quantiles = list(range(21))\n",
    "true_string_quantiles = [str(int) for int in true_quantiles]\n",
    "true_breakpoints.columns = true_string_quantiles\n",
    "true_breakpoints = true_breakpoints.rename(columns={'0':'date'})\n"
   ]
  },
  {
   "cell_type": "markdown",
   "metadata": {},
   "source": [
    "Merge the stock and breakpoints dataframe and assign a quantile for every stock for every month.\n",
    "My logic is to assign a stock to a new quantile if it is larger than a breakpoint for a quantile below.\n",
    "For example, if column 1 describes quantile 1 breakpoints and a breakpoint for column 1 is 50, and for column 2 it is 100,\n",
    "then a stock with a value of 105 gets assigned to a quantile 3 and a stock with a value of 75 gets assigned to a quantile 2.\n",
    "A stock with a value of 25 then gets assigned to a quantile 1."
   ]
  },
  {
   "cell_type": "code",
   "execution_count": 7,
   "metadata": {},
   "outputs": [
    {
     "name": "stderr",
     "output_type": "stream",
     "text": [
      "C:\\Users\\Ville\\anaconda3\\lib\\site-packages\\pandas\\core\\indexing.py:670: SettingWithCopyWarning: \n",
      "A value is trying to be set on a copy of a slice from a DataFrame\n",
      "\n",
      "See the caveats in the documentation: https://pandas.pydata.org/pandas-docs/stable/user_guide/indexing.html#returning-a-view-versus-a-copy\n",
      "  self._setitem_with_indexer(indexer, value)\n",
      "C:\\Users\\Ville\\anaconda3\\lib\\site-packages\\ipykernel_launcher.py:10: FutureWarning: Indexing with multiple keys (implicitly converted to a tuple of keys) will be deprecated, use a list instead.\n",
      "  # Remove the CWD from sys.path while we load stuff.\n"
     ]
    }
   ],
   "source": [
    "crsp = pd.merge(stocks_data, true_breakpoints, left_on='date', right_on = 'date', how='left')\n",
    "for i in range(1, 20):\n",
    "    crsp['quantile'].loc[crsp.lagcap > crsp[str(i)]] = int(i)+1\n",
    "    \n",
    "# The loop does not assign any stocks to quantile 1, so I fill all stocks that did not get assigned, to quantile 1.\n",
    "crsp['quantile'] = crsp['quantile'].fillna(1)\n",
    "\n",
    "# Group portfolios by date and quantile and get returns for every portfolio\n",
    "crsp['return_sum'] = crsp['RET'] * crsp['lagcap'] \n",
    "portfolios = crsp.groupby(['date', 'quantile'])['lagcap', 'return_sum'].sum().reset_index()\n",
    "portfolios = portfolios.sort_values(by=['quantile', 'date'])\n",
    "portfolios['return'] = portfolios['return_sum'] / portfolios['lagcap']\n"
   ]
  },
  {
   "cell_type": "code",
   "execution_count": 8,
   "metadata": {},
   "outputs": [],
   "source": [
    "# Create an excess return column with the help of risk free column\n",
    "portfolios['rf'] = list(rf) * 20\n",
    "portfolios['rf'] = portfolios['rf'] / 100\n",
    "portfolios['excess return'] = portfolios['return'] - portfolios['rf']"
   ]
  },
  {
   "cell_type": "code",
   "execution_count": 9,
   "metadata": {},
   "outputs": [],
   "source": [
    "# Run the regressions and add alphas, betas and r2 to their corresponding lists which are used to create the table\n",
    "X = market_return['excess']\n",
    "results_dictionary = {}\n",
    "alfas = []\n",
    "alfa_t = []\n",
    "betas = []\n",
    "beta_t = []\n",
    "r2 = []\n",
    "portfolio = []\n",
    "excess_returns = []\n",
    "for i in range(1, 21):\n",
    "    y = portfolios['excess return'].loc[portfolios['quantile'] == i]\n",
    "    excess_returns.append(y)\n",
    "    y.index = X.index\n",
    "    X = sm.add_constant(X)\n",
    "    reg = sm.OLS(y, X)\n",
    "    res = reg.fit()\n",
    "    alfas.append(round(res.params[0],4))\n",
    "    betas.append(round(res.params[1],3))\n",
    "    r2.append(round(res.rsquared,3))\n",
    "    t_test = res.t_test(np.eye(2))\n",
    "    alfa_t.append(round(t_test.tvalue[0],3))\n",
    "    beta_t.append(round(t_test.tvalue[1],3))\n",
    "    portfolio.append(i)\n",
    "\n",
    "    \n",
    "results_dictionary['portfolio'] = portfolio\n",
    "results_dictionary['a'] = alfas\n",
    "results_dictionary['t-stats for a'] = alfa_t\n",
    "results_dictionary['b'] = betas\n",
    "results_dictionary['t-stats for b'] = beta_t\n",
    "results_dictionary['r2'] = r2\n"
   ]
  },
  {
   "cell_type": "code",
   "execution_count": 10,
   "metadata": {},
   "outputs": [
    {
     "data": {
      "text/html": [
       "<div>\n",
       "<style scoped>\n",
       "    .dataframe tbody tr th:only-of-type {\n",
       "        vertical-align: middle;\n",
       "    }\n",
       "\n",
       "    .dataframe tbody tr th {\n",
       "        vertical-align: top;\n",
       "    }\n",
       "\n",
       "    .dataframe thead th {\n",
       "        text-align: right;\n",
       "    }\n",
       "</style>\n",
       "<table border=\"1\" class=\"dataframe\">\n",
       "  <thead>\n",
       "    <tr style=\"text-align: right;\">\n",
       "      <th></th>\n",
       "      <th>a</th>\n",
       "      <th>t-stats for a</th>\n",
       "      <th>b</th>\n",
       "      <th>t-stats for b</th>\n",
       "      <th>r2</th>\n",
       "    </tr>\n",
       "    <tr>\n",
       "      <th>portfolio</th>\n",
       "      <th></th>\n",
       "      <th></th>\n",
       "      <th></th>\n",
       "      <th></th>\n",
       "      <th></th>\n",
       "    </tr>\n",
       "  </thead>\n",
       "  <tbody>\n",
       "    <tr>\n",
       "      <th>1</th>\n",
       "      <td>0.0021</td>\n",
       "      <td>0.310</td>\n",
       "      <td>1.375</td>\n",
       "      <td>11.302</td>\n",
       "      <td>0.810</td>\n",
       "    </tr>\n",
       "    <tr>\n",
       "      <th>2</th>\n",
       "      <td>-0.0069</td>\n",
       "      <td>-1.196</td>\n",
       "      <td>1.311</td>\n",
       "      <td>12.404</td>\n",
       "      <td>0.837</td>\n",
       "    </tr>\n",
       "    <tr>\n",
       "      <th>3</th>\n",
       "      <td>-0.0033</td>\n",
       "      <td>-0.541</td>\n",
       "      <td>1.344</td>\n",
       "      <td>12.062</td>\n",
       "      <td>0.829</td>\n",
       "    </tr>\n",
       "    <tr>\n",
       "      <th>4</th>\n",
       "      <td>-0.0056</td>\n",
       "      <td>-1.103</td>\n",
       "      <td>1.293</td>\n",
       "      <td>13.864</td>\n",
       "      <td>0.865</td>\n",
       "    </tr>\n",
       "    <tr>\n",
       "      <th>5</th>\n",
       "      <td>-0.0095</td>\n",
       "      <td>-1.868</td>\n",
       "      <td>1.384</td>\n",
       "      <td>14.879</td>\n",
       "      <td>0.881</td>\n",
       "    </tr>\n",
       "    <tr>\n",
       "      <th>6</th>\n",
       "      <td>-0.0061</td>\n",
       "      <td>-1.255</td>\n",
       "      <td>1.349</td>\n",
       "      <td>15.213</td>\n",
       "      <td>0.885</td>\n",
       "    </tr>\n",
       "    <tr>\n",
       "      <th>7</th>\n",
       "      <td>-0.0080</td>\n",
       "      <td>-1.758</td>\n",
       "      <td>1.457</td>\n",
       "      <td>17.537</td>\n",
       "      <td>0.911</td>\n",
       "    </tr>\n",
       "    <tr>\n",
       "      <th>8</th>\n",
       "      <td>-0.0059</td>\n",
       "      <td>-1.826</td>\n",
       "      <td>1.299</td>\n",
       "      <td>21.975</td>\n",
       "      <td>0.942</td>\n",
       "    </tr>\n",
       "    <tr>\n",
       "      <th>9</th>\n",
       "      <td>-0.0070</td>\n",
       "      <td>-1.954</td>\n",
       "      <td>1.349</td>\n",
       "      <td>20.743</td>\n",
       "      <td>0.935</td>\n",
       "    </tr>\n",
       "    <tr>\n",
       "      <th>10</th>\n",
       "      <td>-0.0083</td>\n",
       "      <td>-2.409</td>\n",
       "      <td>1.333</td>\n",
       "      <td>21.115</td>\n",
       "      <td>0.937</td>\n",
       "    </tr>\n",
       "    <tr>\n",
       "      <th>11</th>\n",
       "      <td>-0.0036</td>\n",
       "      <td>-1.146</td>\n",
       "      <td>1.330</td>\n",
       "      <td>23.153</td>\n",
       "      <td>0.947</td>\n",
       "    </tr>\n",
       "    <tr>\n",
       "      <th>12</th>\n",
       "      <td>-0.0040</td>\n",
       "      <td>-1.144</td>\n",
       "      <td>1.259</td>\n",
       "      <td>19.512</td>\n",
       "      <td>0.927</td>\n",
       "    </tr>\n",
       "    <tr>\n",
       "      <th>13</th>\n",
       "      <td>-0.0057</td>\n",
       "      <td>-1.774</td>\n",
       "      <td>1.259</td>\n",
       "      <td>21.579</td>\n",
       "      <td>0.939</td>\n",
       "    </tr>\n",
       "    <tr>\n",
       "      <th>14</th>\n",
       "      <td>-0.0043</td>\n",
       "      <td>-1.233</td>\n",
       "      <td>1.279</td>\n",
       "      <td>20.044</td>\n",
       "      <td>0.931</td>\n",
       "    </tr>\n",
       "    <tr>\n",
       "      <th>15</th>\n",
       "      <td>-0.0035</td>\n",
       "      <td>-1.236</td>\n",
       "      <td>1.289</td>\n",
       "      <td>24.757</td>\n",
       "      <td>0.953</td>\n",
       "    </tr>\n",
       "    <tr>\n",
       "      <th>16</th>\n",
       "      <td>-0.0019</td>\n",
       "      <td>-0.748</td>\n",
       "      <td>1.144</td>\n",
       "      <td>24.686</td>\n",
       "      <td>0.953</td>\n",
       "    </tr>\n",
       "    <tr>\n",
       "      <th>17</th>\n",
       "      <td>-0.0007</td>\n",
       "      <td>-0.259</td>\n",
       "      <td>1.068</td>\n",
       "      <td>21.000</td>\n",
       "      <td>0.936</td>\n",
       "    </tr>\n",
       "    <tr>\n",
       "      <th>18</th>\n",
       "      <td>0.0006</td>\n",
       "      <td>0.294</td>\n",
       "      <td>1.001</td>\n",
       "      <td>26.450</td>\n",
       "      <td>0.959</td>\n",
       "    </tr>\n",
       "    <tr>\n",
       "      <th>19</th>\n",
       "      <td>-0.0013</td>\n",
       "      <td>-0.724</td>\n",
       "      <td>1.005</td>\n",
       "      <td>29.807</td>\n",
       "      <td>0.967</td>\n",
       "    </tr>\n",
       "    <tr>\n",
       "      <th>20</th>\n",
       "      <td>0.0038</td>\n",
       "      <td>1.770</td>\n",
       "      <td>0.942</td>\n",
       "      <td>24.168</td>\n",
       "      <td>0.951</td>\n",
       "    </tr>\n",
       "  </tbody>\n",
       "</table>\n",
       "</div>"
      ],
      "text/plain": [
       "                a  t-stats for a      b  t-stats for b     r2\n",
       "portfolio                                                    \n",
       "1          0.0021          0.310  1.375         11.302  0.810\n",
       "2         -0.0069         -1.196  1.311         12.404  0.837\n",
       "3         -0.0033         -0.541  1.344         12.062  0.829\n",
       "4         -0.0056         -1.103  1.293         13.864  0.865\n",
       "5         -0.0095         -1.868  1.384         14.879  0.881\n",
       "6         -0.0061         -1.255  1.349         15.213  0.885\n",
       "7         -0.0080         -1.758  1.457         17.537  0.911\n",
       "8         -0.0059         -1.826  1.299         21.975  0.942\n",
       "9         -0.0070         -1.954  1.349         20.743  0.935\n",
       "10        -0.0083         -2.409  1.333         21.115  0.937\n",
       "11        -0.0036         -1.146  1.330         23.153  0.947\n",
       "12        -0.0040         -1.144  1.259         19.512  0.927\n",
       "13        -0.0057         -1.774  1.259         21.579  0.939\n",
       "14        -0.0043         -1.233  1.279         20.044  0.931\n",
       "15        -0.0035         -1.236  1.289         24.757  0.953\n",
       "16        -0.0019         -0.748  1.144         24.686  0.953\n",
       "17        -0.0007         -0.259  1.068         21.000  0.936\n",
       "18         0.0006          0.294  1.001         26.450  0.959\n",
       "19        -0.0013         -0.724  1.005         29.807  0.967\n",
       "20         0.0038          1.770  0.942         24.168  0.951"
      ]
     },
     "execution_count": 10,
     "metadata": {},
     "output_type": "execute_result"
    }
   ],
   "source": [
    "# visualize the table\n",
    "results = pd.DataFrame(results_dictionary)\n",
    "results.set_index('portfolio', inplace=True)\n",
    "results"
   ]
  },
  {
   "cell_type": "code",
   "execution_count": 11,
   "metadata": {},
   "outputs": [
    {
     "data": {
      "image/png": "[encoded data removed]",
      "text/plain": [
       "<Figure size 1080x576 with 1 Axes>"
      ]
     },
     "metadata": {
      "needs_background": "light"
     },
     "output_type": "display_data"
    }
   ],
   "source": [
    "# plot excess returns on beta\n",
    "import matplotlib.pyplot as plt\n",
    "avg_list = []\n",
    "for excess_ret in excess_returns:\n",
    "    avg_list.append(excess_ret.mean())\n",
    "betacol = results['b'].tolist()\n",
    "df = pd.DataFrame()\n",
    "df['excess_ret'] = avg_list\n",
    "\n",
    "df['b'] = betacol\n",
    "df = df.sort_values(by=['b'])\n",
    "plt.plot(df['b'], df['excess_ret'])\n",
    "plt.ylabel(\"Excess return\", fontsize=12)\n",
    "plt.xlabel(\"Beta\", fontsize=12)\n",
    "fig = plt.gcf()\n",
    "fig.set_size_inches(15, 8)\n",
    "plt.show()"
   ]
  },
  {
   "cell_type": "code",
   "execution_count": 12,
   "metadata": {},
   "outputs": [
    {
     "name": "stdout",
     "output_type": "stream",
     "text": [
      "Size portfolio 10 has a statistically significant alpha of -0.0083 with a p-value of 0.022\n"
     ]
    }
   ],
   "source": [
    "# Count the number of statistically significant alphas\n",
    "from scipy.stats import t\n",
    "j = 1\n",
    "for i in alfa_t:\n",
    "    p_alpha = t.sf(np.abs(i), len(dates)-1)*2\n",
    "    if p_alpha < 0.05:\n",
    "        print(\"Size portfolio\", j, \"has a statistically significant alpha of\", alfas[j-1], \"with a p-value of\", round(p_alpha,3))\n",
    "    j += 1"
   ]
  },
  {
   "cell_type": "markdown",
   "metadata": {},
   "source": [
    "Now I will do the Fama Macbeth cross-sectional regressions where I regress portfolio excess returns on betas and the natural logarithm of average market caps in portfolio"
   ]
  },
  {
   "cell_type": "markdown",
   "metadata": {},
   "source": [
    "I first create a lagsize dataframe that has lagged market caps in millions and a natural logarithm of that lagged market cap.\n",
    "I use the crsp dataframe created before which has all the stocks assigned to their quantiles for every date"
   ]
  },
  {
   "cell_type": "code",
   "execution_count": 13,
   "metadata": {},
   "outputs": [
    {
     "name": "stderr",
     "output_type": "stream",
     "text": [
      "C:\\Users\\Ville\\anaconda3\\lib\\site-packages\\pandas\\core\\indexing.py:670: SettingWithCopyWarning: \n",
      "A value is trying to be set on a copy of a slice from a DataFrame\n",
      "\n",
      "See the caveats in the documentation: https://pandas.pydata.org/pandas-docs/stable/user_guide/indexing.html#returning-a-view-versus-a-copy\n",
      "  self._setitem_with_indexer(indexer, value)\n"
     ]
    }
   ],
   "source": [
    "lagsize = crsp.groupby(['date', 'quantile'])['lagcap'].mean().reset_index()\n",
    "lagsize.sort_values(by=['quantile', 'date'], inplace=True)\n",
    "lagsize['excess return'] = portfolios['excess return']\n",
    "lagsize['lagcap'] = lagsize['lagcap']\n",
    "lagsize['log_lagcap'] = np.log(lagsize['lagcap'])\n",
    "\n",
    "# Add also betas to the quantiles in order to use them  the regressions\n",
    "lagsize['beta'] = np.nan\n",
    "for i in range(1, 21):\n",
    "    lagsize['beta'].loc[lagsize['quantile'] == i] = betacol[i-1]\n",
    "lagsize.sort_values(by=['date', 'quantile'], inplace=True)\n"
   ]
  },
  {
   "cell_type": "markdown",
   "metadata": {},
   "source": [
    "Then it is time to do the Fama-Macbeth regressions and add coefficients to their corresponding lists"
   ]
  },
  {
   "cell_type": "code",
   "execution_count": 14,
   "metadata": {},
   "outputs": [],
   "source": [
    "alphas = []\n",
    "bones = []\n",
    "btwos = []\n",
    "for i in range(len(dates)):\n",
    "    gap_df = lagsize.loc[lagsize['date'] == dates[i]]\n",
    "    X = gap_df[['beta', 'log_lagcap']]\n",
    "    X = sm.add_constant(X)\n",
    "    y = lagsize['excess return'].loc[lagsize['date'] == dates[i]]\n",
    "    reg = sm.OLS(y, X)\n",
    "    res = reg.fit()\n",
    "    alphas.append(res.params[0])\n",
    "    bones.append(res.params[1])\n",
    "    btwos.append(res.params[2])\n",
    "   "
   ]
  },
  {
   "cell_type": "markdown",
   "metadata": {},
   "source": [
    "After the regressions I compute the Fama-Macbeth coefficients and t-stats and p-values for the coefficients"
   ]
  },
  {
   "cell_type": "code",
   "execution_count": 15,
   "metadata": {},
   "outputs": [
    {
     "name": "stdout",
     "output_type": "stream",
     "text": [
      "Average alpha is: 0.03498  Average b1 is: -0.0202  Average b2 is: -0.0007\n",
      "T-stat for alpha is: 1.789  T-stat for b1 is: -1.488  T-stat for b2 is:  -0.624\n",
      "P-value for alpha is: 0.0833 P-value for b1 is: 0.1469 P-value for b2 is: 0.5375\n"
     ]
    }
   ],
   "source": [
    "import math\n",
    "import statistics\n",
    "from scipy.stats import t\n",
    "\n",
    "# Calculate average Fama-Macbeth coefficient by summing the coefficients and then dividing them by the sample size\n",
    "average_alpha = sum(alphas) / len(alphas)\n",
    "average_bones = sum(bones) / len(bones)\n",
    "average_btwos = sum(btwos) / len(btwos)\n",
    "\n",
    "# Calculate standard erros for the coefficients by then dividing them by the square root of the sample size\n",
    "se_alpha = statistics.stdev(alphas) / math.sqrt(len(dates))\n",
    "se_b1 = statistics.stdev(bones) / math.sqrt(len(dates))\n",
    "se_b2 = statistics.stdev(btwos) / math.sqrt(len(dates))\n",
    "print(\"Average alpha is:\", round(average_alpha,5), \" Average b1 is:\", round(average_bones,4), \" Average b2 is:\", round(average_btwos,4))\n",
    "\n",
    "# Calculate t-stats for coefficients by dividing the coefficient by it's standard errors\n",
    "t_alpha = average_alpha / se_alpha\n",
    "t_b1 = average_bones / se_b1\n",
    "t_b2 = average_btwos / se_b2\n",
    "print(\"T-stat for alpha is:\", round(t_alpha,3), \" T-stat for b1 is:\", round(t_b1,3), \" T-stat for b2 is: \", round(t_b2,3))\n",
    "\n",
    "# Calculate p-values for coefficients using 31 as the degrees of freedom which is the length of sample size - 1\n",
    "# This is a two-tailed hypothesis which is why I am doubling the p-value\n",
    "p_alpha = t.sf(np.abs(t_alpha), len(alphas)-1) * 2\n",
    "p_b1 = t.sf(np.abs(t_b1), len(bones)-1)*2\n",
    "p_b2 = t.sf(np.abs(t_b2), len(btwos)-1)*2\n",
    "print(\"P-value for alpha is:\", round(p_alpha,4), \"P-value for b1 is:\", round(p_b1,4), \"P-value for b2 is:\", round(p_b2,4))\n"
   ]
  },
  {
   "cell_type": "code",
   "execution_count": 16,
   "metadata": {},
   "outputs": [
    {
     "name": "stderr",
     "output_type": "stream",
     "text": [
      "C:\\Users\\Ville\\anaconda3\\lib\\site-packages\\ipykernel_launcher.py:7: RuntimeWarning: Second argument 'b1' is ambiguous: could be a color spec but is in data; using as data.  Either rename the entry in data or use three arguments to plot.\n",
      "  import sys\n",
      "C:\\Users\\Ville\\anaconda3\\lib\\site-packages\\ipykernel_launcher.py:8: RuntimeWarning: Second argument 'b2' is ambiguous: could be a color spec but is in data; using as data.  Either rename the entry in data or use three arguments to plot.\n",
      "  \n"
     ]
    },
    {
     "data": {
      "image/png": "[encoded data removed]",
      "text/plain": [
       "<Figure size 1332x756 with 1 Axes>"
      ]
     },
     "metadata": {
      "needs_background": "light"
     },
     "output_type": "display_data"
    }
   ],
   "source": [
    "# Plot b1 and b2 on date\n",
    "import matplotlib.pyplot as plt\n",
    "plot_df = pd.DataFrame()\n",
    "plot_df['date'] = dates\n",
    "plot_df['b1'] = bones\n",
    "plot_df['b2'] = btwos\n",
    "plt.plot('date', 'b1', data=plot_df, color='blue')\n",
    "plt.plot('date', 'b2', data=plot_df, color='red')\n",
    "plt.legend(prop={'size': 12})\n",
    "fig = plt.gcf()\n",
    "fig.set_size_inches(18.5, 10.5)\n",
    "plt.show()\n",
    "\n"
   ]
  }
 ],
 "metadata": {
  "kernelspec": {
   "display_name": "Python 3",
   "language": "python",
   "name": "python3"
  },
  "language_info": {
   "codemirror_mode": {
    "name": "ipython",
    "version": 3
   },
   "file_extension": ".py",
   "mimetype": "text/x-python",
   "name": "python",
   "nbconvert_exporter": "python",
   "pygments_lexer": "ipython3",
   "version": "3.7.6"
  }
 },
 "nbformat": 4,
 "nbformat_minor": 4
}
